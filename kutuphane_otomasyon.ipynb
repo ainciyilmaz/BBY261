{
  "nbformat": 4,
  "nbformat_minor": 0,
  "metadata": {
    "colab": {
      "provenance": [],
      "authorship_tag": "ABX9TyPmK4zaM51COeCgoEWHY055",
      "include_colab_link": true
    },
    "kernelspec": {
      "name": "python3",
      "display_name": "Python 3"
    },
    "language_info": {
      "name": "python"
    }
  },
  "cells": [
    {
      "cell_type": "markdown",
      "metadata": {
        "id": "view-in-github",
        "colab_type": "text"
      },
      "source": [
        "<a href=\"https://colab.research.google.com/github/ainciyilmaz/BBY261/blob/main/kutuphane_otomasyon.ipynb\" target=\"_parent\"><img src=\"https://colab.research.google.com/assets/colab-badge.svg\" alt=\"Open In Colab\"/></a>"
      ]
    },
    {
      "cell_type": "code",
      "execution_count": null,
      "metadata": {
        "id": "DWCk1AJLhrPl"
      },
      "outputs": [],
      "source": [
        "# Kütüphane Otomasyonu\n",
        "\n",
        "\n",
        "# kayıtlı olan kitaplar\n",
        "kitaplar = [\n",
        "    [\"Sabahattin Ali\", \"Kürk Mantolu Madonna\", \"Roman\"],\n",
        "    [\"Hakan Günday\", \"Kinyas ve Kayra\", \"Roman\"],\n",
        "    [\"Nazım Hikmet\", \"Henüz Vakit Varken Gülüm\", \"Şiir\"],\n",
        "    [\"Turgut Uyar\", \"Göğe Bakma Durağı\", \"Şiir\"]\n",
        "]\n",
        "\n",
        "\n",
        "def kitap_ekle():\n",
        "    yazar = input(\"Yazar adı: \")\n",
        "    eser = input(\"Eser adı: \")\n",
        "    tur = input(\"Tür: \")\n",
        "    kitaplar.append([yazar, eser, tur])\n",
        "    print(\"Kitap eklendi.\\n\")\n",
        "\n",
        "\n",
        "def kitaplari_listele():\n",
        "    if not kitaplar:\n",
        "        print(\"Kayıtlı Kitap Bulunamadı.\\n\")\n",
        "        return\n",
        "    print(\"Kütüphanedeki Kitaplar:\")\n",
        "    for i, (yazar, eser, tur) in enumerate(kitaplar, start=1):\n",
        "        print(f\"{i}. {eser} - {yazar} ({tur})\")\n",
        "    print()\n",
        "\n",
        "\n",
        "def kitap_ara():\n",
        "    aranan = input(\"Kitap adını giriniz: \").lower()\n",
        "    bulundu = False\n",
        "    for yazar, eser, tur in kitaplar:\n",
        "        if aranan in yazar.lower() or aranan in eser.lower() or aranan in tur.lower():\n",
        "            print(f\" {eser} - {yazar} ({tur})\")\n",
        "            bulundu = True\n",
        "    if not bulundu:\n",
        "        print(\" Eşleşen kitap bulunamadı.\\n\")\n",
        "    else:\n",
        "        print()\n",
        "\n",
        "\n",
        "# Ana menü\n",
        "while True:\n",
        "    print(\"==== KÜTÜPHANE OTOMASYONU ====\")\n",
        "    print(\"1. Kitap ekle\")\n",
        "    print(\"2. Kitapları listele\")\n",
        "    print(\"3. Kitap ara\")\n",
        "    print(\"4. Çıkış yap\")\n",
        "\n",
        "    secim = input(\"Seçimin: \")\n",
        "\n",
        "    if secim == \"1\":\n",
        "        kitap_ekle()\n",
        "    elif secim == \"2\":\n",
        "        kitaplari_listele()\n",
        "    elif secim == \"3\":\n",
        "        kitap_ara()\n",
        "    elif secim == \"4\":\n",
        "        print(\"Programdan çıkılıyor...\")\n",
        "        break\n",
        "    else:\n",
        "        print(\" Geçersiz seçim. Lütfen 1-4 arası sayı gir.\\n\")\n"
      ]
    }
  ]
}